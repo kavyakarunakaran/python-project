{
 "cells": [
  {
   "cell_type": "markdown",
   "id": "f1ceeeb1-2db2-426c-a18e-1fe4c53ebfaf",
   "metadata": {},
   "source": [
    "# <span style =\"color:darklategray\"> Rock, Paper, Scissors </span>"
   ]
  },
  {
   "cell_type": "markdown",
   "id": "7e4690e3-581b-4947-9fef-46a27776a389",
   "metadata": {},
   "source": [
    "This project is a simple and interactive implementation of the classic game Rock, Paper, Scissors, developed using Python's Tkinter library for a graphical user interface (GUI). Players can choose between rock, paper, or scissors to compete against a computer opponent. The game adheres to the standard rules:\n",
    "\n",
    "> Rock crushes Scissors\n",
    "\n",
    "> Scissors cuts Paper\n",
    "\n",
    "> Paper covers Rock\n",
    "\n",
    "The application features an intuitive layout with buttons for user selections and dynamically displays the results of each round, including the choices made by both the player and the computer. It also tracks and updates the score in real-time."
   ]
  },
  {
   "cell_type": "markdown",
   "id": "9d434fbd-b29c-4b81-b107-075804bee609",
   "metadata": {},
   "source": [
    "<div style=\"text-align: center;\">\n",
    "    <img src=\"https://www.codingal.com/resources/wp-content/uploads/2023/03/rock-paper-and-scissors.png\" width=\"600\" />\n",
    "</div>"
   ]
  },
  {
   "cell_type": "code",
   "execution_count": 1,
   "id": "3db3abd1-b2f2-4369-8f18-69ffe1d1b103",
   "metadata": {},
   "outputs": [],
   "source": [
    "import tkinter as tk\n",
    "import random\n",
    "\n",
    "class RPSGame:\n",
    "    def __init__(self, root):\n",
    "        self.root = root\n",
    "        self.root.title(\"Rock, Paper, Scissors\")\n",
    "\n",
    "        self.user_wins = 0\n",
    "        self.computer_wins = 0\n",
    "\n",
    "        self.label = tk.Label(root, text=\"Choose Rock, Paper, or Scissors:\", font=(\"Helvetica\", 16))\n",
    "        self.label.pack(pady=20)\n",
    "\n",
    "        self.buttons_frame = tk.Frame(root)\n",
    "        self.buttons_frame.pack()\n",
    "\n",
    "        self.rock_button = tk.Button(self.buttons_frame, text=\"Rock\", command=lambda: self.play(\"rock\"))\n",
    "        self.rock_button.grid(row=0, column=0, padx=10)\n",
    "\n",
    "        self.paper_button = tk.Button(self.buttons_frame, text=\"Paper\", command=lambda: self.play(\"paper\"))\n",
    "        self.paper_button.grid(row=0, column=1, padx=10)\n",
    "\n",
    "        self.scissors_button = tk.Button(self.buttons_frame, text=\"Scissors\", command=lambda: self.play(\"scissors\"))\n",
    "        self.scissors_button.grid(row=0, column=2, padx=10)\n",
    "\n",
    "        self.result_label = tk.Label(root, text=\"\", font=(\"Helvetica\", 14))\n",
    "        self.result_label.pack(pady=20)\n",
    "\n",
    "        self.score_label = tk.Label(root, text=\"You: 0, Computer: 0\", font=(\"Helvetica\", 14))\n",
    "        self.score_label.pack(pady=20)\n",
    "\n",
    "    def play(self, user_input):\n",
    "        options = [\"rock\", \"paper\", \"scissors\"]\n",
    "        computer_pick = random.choice(options)\n",
    "        \n",
    "        self.result_label.config(text=f\"Computer picked: {computer_pick}\")\n",
    "\n",
    "        if user_input == computer_pick:\n",
    "            self.result_label.config(text=self.result_label.cget(\"text\") + \"\\nIt's a draw!\")\n",
    "        elif (user_input == \"rock\" and computer_pick == \"scissors\") or \\\n",
    "             (user_input == \"paper\" and computer_pick == \"rock\") or \\\n",
    "             (user_input == \"scissors\" and computer_pick == \"paper\"):\n",
    "            self.result_label.config(text=self.result_label.cget(\"text\") + \"\\nYou won!\")\n",
    "            self.user_wins += 1\n",
    "        else:\n",
    "            self.result_label.config(text=self.result_label.cget(\"text\") + \"\\nYou lost!\")\n",
    "            self.computer_wins += 1\n",
    "        \n",
    "        self.score_label.config(text=f\"You: {self.user_wins}, Computer: {self.computer_wins}\")\n",
    "\n",
    "if __name__ == \"__main__\":\n",
    "    root = tk.Tk()\n",
    "    game = RPSGame(root)\n",
    "    root.mainloop()\n"
   ]
  },
  {
   "cell_type": "markdown",
   "id": "e3ec80b3-6bc4-45bc-a6d1-cfbbe7ff8b3b",
   "metadata": {},
   "source": [
    "This project serves as a fun introduction to programming concepts such as conditionals, randomization, and GUI development, making it ideal for beginners and educational purposes. It provides hands-on experience in building a complete application while reinforcing key programming skills."
   ]
  },
  {
   "cell_type": "markdown",
   "id": "f6f2b147-ab06-46ca-981a-cda0781bfae0",
   "metadata": {},
   "source": [
    "***"
   ]
  },
  {
   "cell_type": "markdown",
   "id": "278aeae5-2475-45a1-9531-3411a5372231",
   "metadata": {},
   "source": [
    "# <center><a href = \"https://www.linkedin.com/in/kavya2003/\"><span style = \"color:darklategray; font-family:Courier New;font-size:20px\">kavya karunakaran </span></a></center>"
   ]
  },
  {
   "cell_type": "markdown",
   "id": "87c4f6dd-664d-4a94-9511-56e5b956845a",
   "metadata": {},
   "source": []
  }
 ],
 "metadata": {
  "kernelspec": {
   "display_name": "Python 3 (ipykernel)",
   "language": "python",
   "name": "python3"
  },
  "language_info": {
   "codemirror_mode": {
    "name": "ipython",
    "version": 3
   },
   "file_extension": ".py",
   "mimetype": "text/x-python",
   "name": "python",
   "nbconvert_exporter": "python",
   "pygments_lexer": "ipython3",
   "version": "3.11.7"
  }
 },
 "nbformat": 4,
 "nbformat_minor": 5
}
