{
 "cells": [
  {
   "cell_type": "code",
   "execution_count": 1,
   "id": "31baee9e-eb96-4f12-9a5f-ab7f002f1a9e",
   "metadata": {},
   "outputs": [
    {
     "name": "stdout",
     "output_type": "stream",
     "text": [
      "Let's toss to decide who bats first.\n"
     ]
    },
    {
     "name": "stdin",
     "output_type": "stream",
     "text": [
      "Heads or tails?  tail\n"
     ]
    },
    {
     "name": "stdout",
     "output_type": "stream",
     "text": [
      "You lost the toss. The computer chooses to bat.\n",
      "You're bowling!\n",
      "Choose a number between 1 and 6.\n"
     ]
    },
    {
     "name": "stdin",
     "output_type": "stream",
     "text": [
      "Your choice:  1\n"
     ]
    },
    {
     "name": "stdout",
     "output_type": "stream",
     "text": [
      "Computer's choice: 1\n",
      "Out! Computer's score: 0\n"
     ]
    }
   ],
   "source": [
    "import random  # Import the random module to generate random numbers\n",
    "\n",
    "def toss():\n",
    "    \"\"\"Function to simulate a toss.\"\"\"\n",
    "    print(\"Let's toss to decide who bats first.\")\n",
    "    choice = input(\"Heads or tails? \").upper()  # Take user input for heads or tails, convert to lowercase\n",
    "    toss_result = random.choice([\"heads\", \"tails\"])  # Generate random toss result\n",
    "    if choice == toss_result:\n",
    "        print(\"You won the toss! You choose to bat.\")  # If user's choice matches toss result, user wins toss\n",
    "        return True\n",
    "    else:\n",
    "        print(\"You lost the toss. The computer chooses to bat.\")  # If user's choice doesn't match, computer wins toss\n",
    "        return False\n",
    "\n",
    "def bowl():\n",
    "    \"\"\"Function to simulate bowling.\"\"\"\n",
    "    print(\"Choose a number between 1 and 6.\")\n",
    "    return int(input(\"Your choice: \"))  # Take user input for bowling choice and convert to integer\n",
    "\n",
    "def bat():\n",
    "    \"\"\"Function to simulate batting.\"\"\"\n",
    "    print(\"Choose a number between 1 and 6.\")\n",
    "    return int(input(\"Your choice: \"))  # Take user input for batting choice and convert to integer\n",
    "\n",
    "def play_hand_cricket():\n",
    "    \"\"\"Function to play hand cricket.\"\"\"\n",
    "    if toss():  # Check the result of the toss\n",
    "        player_runs = 0  # Initialize player's runs\n",
    "        print(\"You're batting!\")\n",
    "        while True:\n",
    "            player_choice = bat()  # Get user's batting choice\n",
    "            computer_choice = random.randint(1, 6)  # Generate computer's bowling choice\n",
    "            print(\"Computer's choice:\", computer_choice)\n",
    "            if player_choice == computer_choice:\n",
    "                print(\"Out! Your score:\", player_runs)  # If user's choice matches computer's, user is out\n",
    "                break\n",
    "            else:\n",
    "                player_runs += player_choice  # Add user's runs to total\n",
    "                print(\"Your score:\", player_runs)  # Print current score\n",
    "    else:\n",
    "        computer_runs = 0  # Initialize computer's runs\n",
    "        print(\"You're bowling!\")\n",
    "        while True:\n",
    "            player_choice = bowl()  # Get user's bowling choice\n",
    "            computer_choice = random.randint(1, 6)  # Generate computer's batting choice\n",
    "            print(\"Computer's choice:\", computer_choice)\n",
    "            if player_choice == computer_choice:\n",
    "                print(\"Out! Computer's score:\", computer_runs)  # If user's choice matches computer's, computer is out\n",
    "                break\n",
    "            else:\n",
    "                computer_runs += computer_choice  # Add computer's runs to total\n",
    "                print(\"Computer's score:\", computer_runs)  # Print current score\n",
    "\n",
    "play_hand_cricket()  # Call the function to start the game"
   ]
  }
 ],
 "metadata": {
  "kernelspec": {
   "display_name": "Python 3 (ipykernel)",
   "language": "python",
   "name": "python3"
  },
  "language_info": {
   "codemirror_mode": {
    "name": "ipython",
    "version": 3
   },
   "file_extension": ".py",
   "mimetype": "text/x-python",
   "name": "python",
   "nbconvert_exporter": "python",
   "pygments_lexer": "ipython3",
   "version": "3.11.7"
  }
 },
 "nbformat": 4,
 "nbformat_minor": 5
}
